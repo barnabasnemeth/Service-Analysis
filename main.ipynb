{
 "cells": [
  {
   "cell_type": "markdown",
   "metadata": {},
   "source": [
    "# Analysing the outcomes of Teqball rallies in singles and doubles"
   ]
  },
  {
   "cell_type": "code",
   "execution_count": null,
   "metadata": {},
   "outputs": [],
   "source": []
  },
  {
   "cell_type": "markdown",
   "metadata": {},
   "source": [
    "### Data Acquisition"
   ]
  },
  {
   "cell_type": "markdown",
   "metadata": {},
   "source": [
    "##### Importing essentials\n"
   ]
  },
  {
   "cell_type": "code",
   "execution_count": 379,
   "metadata": {},
   "outputs": [],
   "source": [
    "import pandas as pd\n",
    "import numpy as np\n",
    "import matplotlib.pyplot as plt\n",
    "import seaborn as sns"
   ]
  },
  {
   "cell_type": "code",
   "execution_count": 380,
   "metadata": {},
   "outputs": [],
   "source": [
    "df_singles = pd.read_excel(\"All_Data.xlsx\")"
   ]
  },
  {
   "cell_type": "code",
   "execution_count": 381,
   "metadata": {},
   "outputs": [],
   "source": [
    "df_doubles = pd.read_excel(\"Doubles_All_Data.xlsx\")"
   ]
  },
  {
   "cell_type": "code",
   "execution_count": 382,
   "metadata": {},
   "outputs": [
    {
     "data": {
      "text/html": [
       "<div>\n",
       "<style scoped>\n",
       "    .dataframe tbody tr th:only-of-type {\n",
       "        vertical-align: middle;\n",
       "    }\n",
       "\n",
       "    .dataframe tbody tr th {\n",
       "        vertical-align: top;\n",
       "    }\n",
       "\n",
       "    .dataframe thead th {\n",
       "        text-align: right;\n",
       "    }\n",
       "</style>\n",
       "<table border=\"1\" class=\"dataframe\">\n",
       "  <thead>\n",
       "    <tr style=\"text-align: right;\">\n",
       "      <th></th>\n",
       "      <th>Date</th>\n",
       "      <th>Country</th>\n",
       "      <th>Competition name</th>\n",
       "      <th>Competition type</th>\n",
       "      <th>Court Type</th>\n",
       "      <th>Category</th>\n",
       "      <th>Competition Stage</th>\n",
       "      <th>Set number</th>\n",
       "      <th>Rally number</th>\n",
       "      <th>Player A</th>\n",
       "      <th>Player B</th>\n",
       "      <th>Serving Player</th>\n",
       "      <th>Service</th>\n",
       "      <th>Point for Player…</th>\n",
       "      <th>Point type</th>\n",
       "    </tr>\n",
       "  </thead>\n",
       "  <tbody>\n",
       "    <tr>\n",
       "      <th>0</th>\n",
       "      <td>2021-04-04</td>\n",
       "      <td>Cape Verde</td>\n",
       "      <td>Cape Verde Challenger Cup</td>\n",
       "      <td>Challenger Cup</td>\n",
       "      <td>Sand</td>\n",
       "      <td>Singles</td>\n",
       "      <td>Semi Final</td>\n",
       "      <td>1.0</td>\n",
       "      <td>1</td>\n",
       "      <td>Apor Gyorgydeak</td>\n",
       "      <td>Hugo Rabeux</td>\n",
       "      <td>B</td>\n",
       "      <td>1</td>\n",
       "      <td>B</td>\n",
       "      <td>UE</td>\n",
       "    </tr>\n",
       "    <tr>\n",
       "      <th>1</th>\n",
       "      <td>2021-04-04</td>\n",
       "      <td>Cape Verde</td>\n",
       "      <td>Cape Verde Challenger Cup</td>\n",
       "      <td>Challenger Cup</td>\n",
       "      <td>Sand</td>\n",
       "      <td>Singles</td>\n",
       "      <td>Semi Final</td>\n",
       "      <td>1.0</td>\n",
       "      <td>2</td>\n",
       "      <td>Apor Gyorgydeak</td>\n",
       "      <td>Hugo Rabeux</td>\n",
       "      <td>B</td>\n",
       "      <td>1</td>\n",
       "      <td>A</td>\n",
       "      <td>UE</td>\n",
       "    </tr>\n",
       "    <tr>\n",
       "      <th>2</th>\n",
       "      <td>2021-04-04</td>\n",
       "      <td>Cape Verde</td>\n",
       "      <td>Cape Verde Challenger Cup</td>\n",
       "      <td>Challenger Cup</td>\n",
       "      <td>Sand</td>\n",
       "      <td>Singles</td>\n",
       "      <td>Semi Final</td>\n",
       "      <td>1.0</td>\n",
       "      <td>3</td>\n",
       "      <td>Apor Gyorgydeak</td>\n",
       "      <td>Hugo Rabeux</td>\n",
       "      <td>B</td>\n",
       "      <td>1</td>\n",
       "      <td>B</td>\n",
       "      <td>W</td>\n",
       "    </tr>\n",
       "    <tr>\n",
       "      <th>3</th>\n",
       "      <td>2021-04-04</td>\n",
       "      <td>Cape Verde</td>\n",
       "      <td>Cape Verde Challenger Cup</td>\n",
       "      <td>Challenger Cup</td>\n",
       "      <td>Sand</td>\n",
       "      <td>Singles</td>\n",
       "      <td>Semi Final</td>\n",
       "      <td>1.0</td>\n",
       "      <td>4</td>\n",
       "      <td>Apor Gyorgydeak</td>\n",
       "      <td>Hugo Rabeux</td>\n",
       "      <td>B</td>\n",
       "      <td>2</td>\n",
       "      <td>A</td>\n",
       "      <td>UE</td>\n",
       "    </tr>\n",
       "    <tr>\n",
       "      <th>4</th>\n",
       "      <td>2021-04-04</td>\n",
       "      <td>Cape Verde</td>\n",
       "      <td>Cape Verde Challenger Cup</td>\n",
       "      <td>Challenger Cup</td>\n",
       "      <td>Sand</td>\n",
       "      <td>Singles</td>\n",
       "      <td>Semi Final</td>\n",
       "      <td>1.0</td>\n",
       "      <td>5</td>\n",
       "      <td>Apor Gyorgydeak</td>\n",
       "      <td>Hugo Rabeux</td>\n",
       "      <td>A</td>\n",
       "      <td>2</td>\n",
       "      <td>B</td>\n",
       "      <td>UE</td>\n",
       "    </tr>\n",
       "  </tbody>\n",
       "</table>\n",
       "</div>"
      ],
      "text/plain": [
       "        Date     Country           Competition name Competition type  \\\n",
       "0 2021-04-04  Cape Verde  Cape Verde Challenger Cup   Challenger Cup   \n",
       "1 2021-04-04  Cape Verde  Cape Verde Challenger Cup   Challenger Cup   \n",
       "2 2021-04-04  Cape Verde  Cape Verde Challenger Cup   Challenger Cup   \n",
       "3 2021-04-04  Cape Verde  Cape Verde Challenger Cup   Challenger Cup   \n",
       "4 2021-04-04  Cape Verde  Cape Verde Challenger Cup   Challenger Cup   \n",
       "\n",
       "  Court Type Category Competition Stage  Set number  Rally number  \\\n",
       "0       Sand  Singles        Semi Final         1.0             1   \n",
       "1       Sand  Singles        Semi Final         1.0             2   \n",
       "2       Sand  Singles        Semi Final         1.0             3   \n",
       "3       Sand  Singles        Semi Final         1.0             4   \n",
       "4       Sand  Singles        Semi Final         1.0             5   \n",
       "\n",
       "          Player A     Player B Serving Player Service Point for Player…  \\\n",
       "0  Apor Gyorgydeak  Hugo Rabeux              B       1                 B   \n",
       "1  Apor Gyorgydeak  Hugo Rabeux              B       1                 A   \n",
       "2  Apor Gyorgydeak  Hugo Rabeux              B       1                 B   \n",
       "3  Apor Gyorgydeak  Hugo Rabeux              B       2                 A   \n",
       "4  Apor Gyorgydeak  Hugo Rabeux              A       2                 B   \n",
       "\n",
       "  Point type  \n",
       "0         UE  \n",
       "1         UE  \n",
       "2          W  \n",
       "3         UE  \n",
       "4         UE  "
      ]
     },
     "execution_count": 382,
     "metadata": {},
     "output_type": "execute_result"
    }
   ],
   "source": [
    "df_singles.head()"
   ]
  },
  {
   "cell_type": "code",
   "execution_count": 383,
   "metadata": {},
   "outputs": [
    {
     "data": {
      "text/html": [
       "<div>\n",
       "<style scoped>\n",
       "    .dataframe tbody tr th:only-of-type {\n",
       "        vertical-align: middle;\n",
       "    }\n",
       "\n",
       "    .dataframe tbody tr th {\n",
       "        vertical-align: top;\n",
       "    }\n",
       "\n",
       "    .dataframe thead th {\n",
       "        text-align: right;\n",
       "    }\n",
       "</style>\n",
       "<table border=\"1\" class=\"dataframe\">\n",
       "  <thead>\n",
       "    <tr style=\"text-align: right;\">\n",
       "      <th></th>\n",
       "      <th>Date</th>\n",
       "      <th>Country</th>\n",
       "      <th>Competition name</th>\n",
       "      <th>Competition type</th>\n",
       "      <th>Court Type</th>\n",
       "      <th>Category</th>\n",
       "      <th>Competition Stage</th>\n",
       "      <th>Team A</th>\n",
       "      <th>Player B</th>\n",
       "      <th>Serving Team</th>\n",
       "      <th>Service</th>\n",
       "      <th>Point for Team…</th>\n",
       "      <th>Point type</th>\n",
       "      <th>Unnamed: 13</th>\n",
       "    </tr>\n",
       "  </thead>\n",
       "  <tbody>\n",
       "    <tr>\n",
       "      <th>0</th>\n",
       "      <td>2021-05-02</td>\n",
       "      <td>Hungary</td>\n",
       "      <td>Budapest Challenger Cup</td>\n",
       "      <td>Challenger Cup</td>\n",
       "      <td>Indoor</td>\n",
       "      <td>Doubles (open)</td>\n",
       "      <td>Group Stage</td>\n",
       "      <td>Adrian Duszak / Franczuk Bartlomiej</td>\n",
       "      <td>Adam Toronyi / Patrik Szatmari</td>\n",
       "      <td>B</td>\n",
       "      <td>1</td>\n",
       "      <td>A</td>\n",
       "      <td>UE</td>\n",
       "      <td>NaN</td>\n",
       "    </tr>\n",
       "    <tr>\n",
       "      <th>1</th>\n",
       "      <td>2021-05-02</td>\n",
       "      <td>Hungary</td>\n",
       "      <td>Budapest Challenger Cup</td>\n",
       "      <td>Challenger Cup</td>\n",
       "      <td>Indoor</td>\n",
       "      <td>Doubles (open)</td>\n",
       "      <td>Group Stage</td>\n",
       "      <td>Adrian Duszak / Franczuk Bartlomiej</td>\n",
       "      <td>Adam Toronyi / Patrik Szatmari</td>\n",
       "      <td>B</td>\n",
       "      <td>1</td>\n",
       "      <td>B</td>\n",
       "      <td>UE</td>\n",
       "      <td>NaN</td>\n",
       "    </tr>\n",
       "    <tr>\n",
       "      <th>2</th>\n",
       "      <td>2021-05-02</td>\n",
       "      <td>Hungary</td>\n",
       "      <td>Budapest Challenger Cup</td>\n",
       "      <td>Challenger Cup</td>\n",
       "      <td>Indoor</td>\n",
       "      <td>Doubles (open)</td>\n",
       "      <td>Group Stage</td>\n",
       "      <td>Adrian Duszak / Franczuk Bartlomiej</td>\n",
       "      <td>Adam Toronyi / Patrik Szatmari</td>\n",
       "      <td>B</td>\n",
       "      <td>1</td>\n",
       "      <td>A</td>\n",
       "      <td>UE</td>\n",
       "      <td>NaN</td>\n",
       "    </tr>\n",
       "    <tr>\n",
       "      <th>3</th>\n",
       "      <td>2021-05-02</td>\n",
       "      <td>Hungary</td>\n",
       "      <td>Budapest Challenger Cup</td>\n",
       "      <td>Challenger Cup</td>\n",
       "      <td>Indoor</td>\n",
       "      <td>Doubles (open)</td>\n",
       "      <td>Group Stage</td>\n",
       "      <td>Adrian Duszak / Franczuk Bartlomiej</td>\n",
       "      <td>Adam Toronyi / Patrik Szatmari</td>\n",
       "      <td>B</td>\n",
       "      <td>2</td>\n",
       "      <td>A</td>\n",
       "      <td>FE</td>\n",
       "      <td>NaN</td>\n",
       "    </tr>\n",
       "    <tr>\n",
       "      <th>4</th>\n",
       "      <td>2021-05-02</td>\n",
       "      <td>Hungary</td>\n",
       "      <td>Budapest Challenger Cup</td>\n",
       "      <td>Challenger Cup</td>\n",
       "      <td>Indoor</td>\n",
       "      <td>Doubles (open)</td>\n",
       "      <td>Group Stage</td>\n",
       "      <td>Adrian Duszak / Franczuk Bartlomiej</td>\n",
       "      <td>Adam Toronyi / Patrik Szatmari</td>\n",
       "      <td>A</td>\n",
       "      <td>1</td>\n",
       "      <td>B</td>\n",
       "      <td>UE</td>\n",
       "      <td>NaN</td>\n",
       "    </tr>\n",
       "  </tbody>\n",
       "</table>\n",
       "</div>"
      ],
      "text/plain": [
       "        Date  Country         Competition name Competition type Court Type  \\\n",
       "0 2021-05-02  Hungary  Budapest Challenger Cup   Challenger Cup     Indoor   \n",
       "1 2021-05-02  Hungary  Budapest Challenger Cup   Challenger Cup     Indoor   \n",
       "2 2021-05-02  Hungary  Budapest Challenger Cup   Challenger Cup     Indoor   \n",
       "3 2021-05-02  Hungary  Budapest Challenger Cup   Challenger Cup     Indoor   \n",
       "4 2021-05-02  Hungary  Budapest Challenger Cup   Challenger Cup     Indoor   \n",
       "\n",
       "         Category Competition Stage                               Team A  \\\n",
       "0  Doubles (open)       Group Stage  Adrian Duszak / Franczuk Bartlomiej   \n",
       "1  Doubles (open)       Group Stage  Adrian Duszak / Franczuk Bartlomiej   \n",
       "2  Doubles (open)       Group Stage  Adrian Duszak / Franczuk Bartlomiej   \n",
       "3  Doubles (open)       Group Stage  Adrian Duszak / Franczuk Bartlomiej   \n",
       "4  Doubles (open)       Group Stage  Adrian Duszak / Franczuk Bartlomiej   \n",
       "\n",
       "                          Player B Serving Team Service Point for Team…  \\\n",
       "0   Adam Toronyi / Patrik Szatmari            B       1               A   \n",
       "1   Adam Toronyi / Patrik Szatmari            B       1               B   \n",
       "2   Adam Toronyi / Patrik Szatmari            B       1               A   \n",
       "3   Adam Toronyi / Patrik Szatmari            B       2               A   \n",
       "4   Adam Toronyi / Patrik Szatmari            A       1               B   \n",
       "\n",
       "  Point type Unnamed: 13  \n",
       "0         UE         NaN  \n",
       "1         UE         NaN  \n",
       "2         UE         NaN  \n",
       "3         FE         NaN  \n",
       "4         UE         NaN  "
      ]
     },
     "execution_count": 383,
     "metadata": {},
     "output_type": "execute_result"
    }
   ],
   "source": [
    "df_doubles.head()"
   ]
  },
  {
   "cell_type": "markdown",
   "metadata": {},
   "source": [
    "### Data Cleaning and Preprocessing"
   ]
  },
  {
   "cell_type": "markdown",
   "metadata": {},
   "source": [
    "#### Uniformize two datasets for common analysis"
   ]
  },
  {
   "cell_type": "code",
   "execution_count": 384,
   "metadata": {},
   "outputs": [],
   "source": [
    "# Remove df_doubles unnecessary columns\n",
    "df_doubles.drop(columns='Unnamed: 13', inplace= True)\n",
    "\n",
    "# Remove Set number and rally number column from df_singles as it will be not needed for the analysis\n",
    "df_singles.drop(columns=['Set number', 'Rally number'], inplace = True)"
   ]
  },
  {
   "cell_type": "markdown",
   "metadata": {},
   "source": [
    "##### Make the columns uniformal in both datasets\n"
   ]
  },
  {
   "cell_type": "code",
   "execution_count": 385,
   "metadata": {},
   "outputs": [
    {
     "data": {
      "text/plain": [
       "Index(['Date', 'Country', 'Competition name', 'Competition type', 'Court Type',\n",
       "       'Category', 'Competition Stage', 'Player A', 'Player B',\n",
       "       'Serving Player', 'Service', 'Point for Player…', 'Point type'],\n",
       "      dtype='object')"
      ]
     },
     "execution_count": 385,
     "metadata": {},
     "output_type": "execute_result"
    }
   ],
   "source": [
    "df_singles.columns"
   ]
  },
  {
   "cell_type": "code",
   "execution_count": 386,
   "metadata": {},
   "outputs": [
    {
     "data": {
      "text/plain": [
       "Index(['Date', 'Country', 'Competition name', 'Competition type', 'Court Type',\n",
       "       'Category', 'Competition Stage', 'Team A', 'Player B', 'Serving Team',\n",
       "       'Service', 'Point for Team…', 'Point type'],\n",
       "      dtype='object')"
      ]
     },
     "execution_count": 386,
     "metadata": {},
     "output_type": "execute_result"
    }
   ],
   "source": [
    "df_doubles.columns"
   ]
  },
  {
   "cell_type": "code",
   "execution_count": 387,
   "metadata": {},
   "outputs": [],
   "source": [
    "df_singles.rename(columns={ 'Player A' : 'Team A',\n",
    "                            'Player B' : 'Team B',\n",
    "                            'Serving Player' : 'Serving Team',\n",
    "                            'Point for Player…' : 'Point Winner'}, inplace = True)"
   ]
  },
  {
   "cell_type": "code",
   "execution_count": 388,
   "metadata": {},
   "outputs": [],
   "source": [
    "df_doubles.rename(columns={'Player B' : 'Team B',\n",
    "                           'Point for Team…' : 'Point Winner'}, inplace = True)"
   ]
  },
  {
   "cell_type": "code",
   "execution_count": 389,
   "metadata": {},
   "outputs": [
    {
     "data": {
      "text/plain": [
       "array([ True,  True,  True,  True,  True,  True,  True,  True,  True,\n",
       "        True,  True,  True,  True])"
      ]
     },
     "execution_count": 389,
     "metadata": {},
     "output_type": "execute_result"
    }
   ],
   "source": [
    "# Check if columns match\n",
    "df_singles.columns == df_doubles.columns"
   ]
  },
  {
   "cell_type": "code",
   "execution_count": 390,
   "metadata": {},
   "outputs": [],
   "source": [
    "# Rename df_doubles 'Category' column values to from Doubles (open) to Doubles for simplicity\n",
    "df_doubles['Category'] = 'Doubles'"
   ]
  },
  {
   "cell_type": "code",
   "execution_count": 391,
   "metadata": {},
   "outputs": [],
   "source": [
    "# Merging the datasets\n",
    "df = pd.concat([df_singles, df_doubles])"
   ]
  },
  {
   "cell_type": "markdown",
   "metadata": {},
   "source": [
    "##### Finding and correcting mistakes - if the Server commits a Double Fault (DF), then the Server can not win the point"
   ]
  },
  {
   "cell_type": "code",
   "execution_count": 392,
   "metadata": {},
   "outputs": [
    {
     "data": {
      "text/plain": [
       "1263    B\n",
       "803     A\n",
       "Name: Point Winner, dtype: object"
      ]
     },
     "execution_count": 392,
     "metadata": {},
     "output_type": "execute_result"
    }
   ],
   "source": [
    "df.loc[(df['Serving Team'] == df['Point Winner']) & (df['Service'] == 'DF'), 'Point Winner']"
   ]
  },
  {
   "cell_type": "code",
   "execution_count": 393,
   "metadata": {},
   "outputs": [],
   "source": [
    "df.loc[(df['Serving Team'] == df['Point Winner']) & (df['Service'] == 'DF'), 'Point Winner'] = df.loc[(df['Serving Team'] == df['Point Winner']) & (df['Service'] == 'DF'), 'Point Winner'].replace({\n",
    "    'A': 'B',\n",
    "    'B': 'A'\n",
    "})"
   ]
  },
  {
   "cell_type": "code",
   "execution_count": null,
   "metadata": {},
   "outputs": [],
   "source": []
  },
  {
   "cell_type": "markdown",
   "metadata": {},
   "source": [
    "#### Exploring the Dataset"
   ]
  },
  {
   "cell_type": "code",
   "execution_count": 394,
   "metadata": {},
   "outputs": [
    {
     "data": {
      "text/html": [
       "<div>\n",
       "<style scoped>\n",
       "    .dataframe tbody tr th:only-of-type {\n",
       "        vertical-align: middle;\n",
       "    }\n",
       "\n",
       "    .dataframe tbody tr th {\n",
       "        vertical-align: top;\n",
       "    }\n",
       "\n",
       "    .dataframe thead th {\n",
       "        text-align: right;\n",
       "    }\n",
       "</style>\n",
       "<table border=\"1\" class=\"dataframe\">\n",
       "  <thead>\n",
       "    <tr style=\"text-align: right;\">\n",
       "      <th></th>\n",
       "      <th>Date</th>\n",
       "      <th>Country</th>\n",
       "      <th>Competition name</th>\n",
       "      <th>Competition type</th>\n",
       "      <th>Court Type</th>\n",
       "      <th>Category</th>\n",
       "      <th>Competition Stage</th>\n",
       "      <th>Team A</th>\n",
       "      <th>Team B</th>\n",
       "      <th>Serving Team</th>\n",
       "      <th>Service</th>\n",
       "      <th>Point Winner</th>\n",
       "      <th>Point type</th>\n",
       "    </tr>\n",
       "  </thead>\n",
       "  <tbody>\n",
       "    <tr>\n",
       "      <th>0</th>\n",
       "      <td>2021-04-04</td>\n",
       "      <td>Cape Verde</td>\n",
       "      <td>Cape Verde Challenger Cup</td>\n",
       "      <td>Challenger Cup</td>\n",
       "      <td>Sand</td>\n",
       "      <td>Singles</td>\n",
       "      <td>Semi Final</td>\n",
       "      <td>Apor Gyorgydeak</td>\n",
       "      <td>Hugo Rabeux</td>\n",
       "      <td>B</td>\n",
       "      <td>1</td>\n",
       "      <td>B</td>\n",
       "      <td>UE</td>\n",
       "    </tr>\n",
       "    <tr>\n",
       "      <th>1</th>\n",
       "      <td>2021-04-04</td>\n",
       "      <td>Cape Verde</td>\n",
       "      <td>Cape Verde Challenger Cup</td>\n",
       "      <td>Challenger Cup</td>\n",
       "      <td>Sand</td>\n",
       "      <td>Singles</td>\n",
       "      <td>Semi Final</td>\n",
       "      <td>Apor Gyorgydeak</td>\n",
       "      <td>Hugo Rabeux</td>\n",
       "      <td>B</td>\n",
       "      <td>1</td>\n",
       "      <td>A</td>\n",
       "      <td>UE</td>\n",
       "    </tr>\n",
       "    <tr>\n",
       "      <th>2</th>\n",
       "      <td>2021-04-04</td>\n",
       "      <td>Cape Verde</td>\n",
       "      <td>Cape Verde Challenger Cup</td>\n",
       "      <td>Challenger Cup</td>\n",
       "      <td>Sand</td>\n",
       "      <td>Singles</td>\n",
       "      <td>Semi Final</td>\n",
       "      <td>Apor Gyorgydeak</td>\n",
       "      <td>Hugo Rabeux</td>\n",
       "      <td>B</td>\n",
       "      <td>1</td>\n",
       "      <td>B</td>\n",
       "      <td>W</td>\n",
       "    </tr>\n",
       "    <tr>\n",
       "      <th>3</th>\n",
       "      <td>2021-04-04</td>\n",
       "      <td>Cape Verde</td>\n",
       "      <td>Cape Verde Challenger Cup</td>\n",
       "      <td>Challenger Cup</td>\n",
       "      <td>Sand</td>\n",
       "      <td>Singles</td>\n",
       "      <td>Semi Final</td>\n",
       "      <td>Apor Gyorgydeak</td>\n",
       "      <td>Hugo Rabeux</td>\n",
       "      <td>B</td>\n",
       "      <td>2</td>\n",
       "      <td>A</td>\n",
       "      <td>UE</td>\n",
       "    </tr>\n",
       "    <tr>\n",
       "      <th>4</th>\n",
       "      <td>2021-04-04</td>\n",
       "      <td>Cape Verde</td>\n",
       "      <td>Cape Verde Challenger Cup</td>\n",
       "      <td>Challenger Cup</td>\n",
       "      <td>Sand</td>\n",
       "      <td>Singles</td>\n",
       "      <td>Semi Final</td>\n",
       "      <td>Apor Gyorgydeak</td>\n",
       "      <td>Hugo Rabeux</td>\n",
       "      <td>A</td>\n",
       "      <td>2</td>\n",
       "      <td>B</td>\n",
       "      <td>UE</td>\n",
       "    </tr>\n",
       "  </tbody>\n",
       "</table>\n",
       "</div>"
      ],
      "text/plain": [
       "        Date     Country           Competition name Competition type  \\\n",
       "0 2021-04-04  Cape Verde  Cape Verde Challenger Cup   Challenger Cup   \n",
       "1 2021-04-04  Cape Verde  Cape Verde Challenger Cup   Challenger Cup   \n",
       "2 2021-04-04  Cape Verde  Cape Verde Challenger Cup   Challenger Cup   \n",
       "3 2021-04-04  Cape Verde  Cape Verde Challenger Cup   Challenger Cup   \n",
       "4 2021-04-04  Cape Verde  Cape Verde Challenger Cup   Challenger Cup   \n",
       "\n",
       "  Court Type Category Competition Stage           Team A       Team B  \\\n",
       "0       Sand  Singles        Semi Final  Apor Gyorgydeak  Hugo Rabeux   \n",
       "1       Sand  Singles        Semi Final  Apor Gyorgydeak  Hugo Rabeux   \n",
       "2       Sand  Singles        Semi Final  Apor Gyorgydeak  Hugo Rabeux   \n",
       "3       Sand  Singles        Semi Final  Apor Gyorgydeak  Hugo Rabeux   \n",
       "4       Sand  Singles        Semi Final  Apor Gyorgydeak  Hugo Rabeux   \n",
       "\n",
       "  Serving Team Service Point Winner Point type  \n",
       "0            B       1            B         UE  \n",
       "1            B       1            A         UE  \n",
       "2            B       1            B          W  \n",
       "3            B       2            A         UE  \n",
       "4            A       2            B         UE  "
      ]
     },
     "execution_count": 394,
     "metadata": {},
     "output_type": "execute_result"
    }
   ],
   "source": [
    "df.head()"
   ]
  },
  {
   "cell_type": "markdown",
   "metadata": {},
   "source": [
    "##### As all DF (Double Fault) services must be UEs (Unforced Error), make sure there are no mistakes like this"
   ]
  },
  {
   "cell_type": "code",
   "execution_count": 395,
   "metadata": {},
   "outputs": [],
   "source": [
    "df['Point type'] = df.apply(lambda row: \"UE\" if (row['Service'] == \"DF\" and row['Point type'] != \"UE\") else row['Point type'], axis=1)"
   ]
  },
  {
   "cell_type": "code",
   "execution_count": 396,
   "metadata": {},
   "outputs": [
    {
     "data": {
      "text/plain": [
       "array(['UE', 'W', 'FE', 'E', 'w', 'Ue', 'ue', 'fe', 'e'], dtype=object)"
      ]
     },
     "execution_count": 396,
     "metadata": {},
     "output_type": "execute_result"
    }
   ],
   "source": [
    "# Check unique values of Point type\n",
    "df['Point type'].unique()"
   ]
  },
  {
   "cell_type": "code",
   "execution_count": 397,
   "metadata": {},
   "outputs": [],
   "source": [
    "df['Point type'] = df['Point type'].apply(lambda x : x.upper())"
   ]
  },
  {
   "cell_type": "markdown",
   "metadata": {},
   "source": [
    "##### Check names as it becomes important when analysing the players"
   ]
  },
  {
   "cell_type": "code",
   "execution_count": 398,
   "metadata": {},
   "outputs": [],
   "source": [
    "unique = df['Team A'].unique().tolist()\n",
    "for name in df['Team B']:\n",
    "    if name not in unique:\n",
    "        unique.append(name)\n",
    "\n",
    "unique.sort()"
   ]
  },
  {
   "cell_type": "code",
   "execution_count": 399,
   "metadata": {},
   "outputs": [],
   "source": [
    "# Reorder names in case of doubles teams in alphabetical order and remove empty space before and after names\n",
    "def reorder(name):\n",
    "    if name.split('/')[0].strip().lower() > name.split('/')[1].strip().lower():\n",
    "        name = name.split('/')[1].strip() + ' / ' + name.split('/')[0].strip()\n",
    "    return name\n"
   ]
  },
  {
   "cell_type": "code",
   "execution_count": 400,
   "metadata": {},
   "outputs": [],
   "source": [
    "df['Team A'] = df['Team A'].apply(lambda x : reorder(x) if '/' in x else x.strip())\n",
    "df['Team B'] = df['Team B'].apply(lambda x : reorder(x) if '/' in x else x.strip())"
   ]
  },
  {
   "cell_type": "markdown",
   "metadata": {},
   "source": [
    "### Exploratory Data Analysis"
   ]
  },
  {
   "cell_type": "markdown",
   "metadata": {},
   "source": [
    "#### Differences in Point types between sand and indoor gameplay"
   ]
  },
  {
   "cell_type": "code",
   "execution_count": 401,
   "metadata": {},
   "outputs": [
    {
     "data": {
      "text/html": [
       "<div>\n",
       "<style scoped>\n",
       "    .dataframe tbody tr th:only-of-type {\n",
       "        vertical-align: middle;\n",
       "    }\n",
       "\n",
       "    .dataframe tbody tr th {\n",
       "        vertical-align: top;\n",
       "    }\n",
       "\n",
       "    .dataframe thead th {\n",
       "        text-align: right;\n",
       "    }\n",
       "</style>\n",
       "<table border=\"1\" class=\"dataframe\">\n",
       "  <thead>\n",
       "    <tr style=\"text-align: right;\">\n",
       "      <th></th>\n",
       "      <th>Date</th>\n",
       "      <th>Country</th>\n",
       "      <th>Competition name</th>\n",
       "      <th>Competition type</th>\n",
       "      <th>Court Type</th>\n",
       "      <th>Category</th>\n",
       "      <th>Competition Stage</th>\n",
       "      <th>Team A</th>\n",
       "      <th>Team B</th>\n",
       "      <th>Serving Team</th>\n",
       "      <th>Service</th>\n",
       "      <th>Point Winner</th>\n",
       "      <th>Point type</th>\n",
       "    </tr>\n",
       "  </thead>\n",
       "  <tbody>\n",
       "    <tr>\n",
       "      <th>0</th>\n",
       "      <td>2021-04-04</td>\n",
       "      <td>Cape Verde</td>\n",
       "      <td>Cape Verde Challenger Cup</td>\n",
       "      <td>Challenger Cup</td>\n",
       "      <td>Sand</td>\n",
       "      <td>Singles</td>\n",
       "      <td>Semi Final</td>\n",
       "      <td>Apor Gyorgydeak</td>\n",
       "      <td>Hugo Rabeux</td>\n",
       "      <td>B</td>\n",
       "      <td>1</td>\n",
       "      <td>B</td>\n",
       "      <td>UE</td>\n",
       "    </tr>\n",
       "    <tr>\n",
       "      <th>1</th>\n",
       "      <td>2021-04-04</td>\n",
       "      <td>Cape Verde</td>\n",
       "      <td>Cape Verde Challenger Cup</td>\n",
       "      <td>Challenger Cup</td>\n",
       "      <td>Sand</td>\n",
       "      <td>Singles</td>\n",
       "      <td>Semi Final</td>\n",
       "      <td>Apor Gyorgydeak</td>\n",
       "      <td>Hugo Rabeux</td>\n",
       "      <td>B</td>\n",
       "      <td>1</td>\n",
       "      <td>A</td>\n",
       "      <td>UE</td>\n",
       "    </tr>\n",
       "    <tr>\n",
       "      <th>2</th>\n",
       "      <td>2021-04-04</td>\n",
       "      <td>Cape Verde</td>\n",
       "      <td>Cape Verde Challenger Cup</td>\n",
       "      <td>Challenger Cup</td>\n",
       "      <td>Sand</td>\n",
       "      <td>Singles</td>\n",
       "      <td>Semi Final</td>\n",
       "      <td>Apor Gyorgydeak</td>\n",
       "      <td>Hugo Rabeux</td>\n",
       "      <td>B</td>\n",
       "      <td>1</td>\n",
       "      <td>B</td>\n",
       "      <td>W</td>\n",
       "    </tr>\n",
       "    <tr>\n",
       "      <th>3</th>\n",
       "      <td>2021-04-04</td>\n",
       "      <td>Cape Verde</td>\n",
       "      <td>Cape Verde Challenger Cup</td>\n",
       "      <td>Challenger Cup</td>\n",
       "      <td>Sand</td>\n",
       "      <td>Singles</td>\n",
       "      <td>Semi Final</td>\n",
       "      <td>Apor Gyorgydeak</td>\n",
       "      <td>Hugo Rabeux</td>\n",
       "      <td>B</td>\n",
       "      <td>2</td>\n",
       "      <td>A</td>\n",
       "      <td>UE</td>\n",
       "    </tr>\n",
       "    <tr>\n",
       "      <th>4</th>\n",
       "      <td>2021-04-04</td>\n",
       "      <td>Cape Verde</td>\n",
       "      <td>Cape Verde Challenger Cup</td>\n",
       "      <td>Challenger Cup</td>\n",
       "      <td>Sand</td>\n",
       "      <td>Singles</td>\n",
       "      <td>Semi Final</td>\n",
       "      <td>Apor Gyorgydeak</td>\n",
       "      <td>Hugo Rabeux</td>\n",
       "      <td>A</td>\n",
       "      <td>2</td>\n",
       "      <td>B</td>\n",
       "      <td>UE</td>\n",
       "    </tr>\n",
       "  </tbody>\n",
       "</table>\n",
       "</div>"
      ],
      "text/plain": [
       "        Date     Country           Competition name Competition type  \\\n",
       "0 2021-04-04  Cape Verde  Cape Verde Challenger Cup   Challenger Cup   \n",
       "1 2021-04-04  Cape Verde  Cape Verde Challenger Cup   Challenger Cup   \n",
       "2 2021-04-04  Cape Verde  Cape Verde Challenger Cup   Challenger Cup   \n",
       "3 2021-04-04  Cape Verde  Cape Verde Challenger Cup   Challenger Cup   \n",
       "4 2021-04-04  Cape Verde  Cape Verde Challenger Cup   Challenger Cup   \n",
       "\n",
       "  Court Type Category Competition Stage           Team A       Team B  \\\n",
       "0       Sand  Singles        Semi Final  Apor Gyorgydeak  Hugo Rabeux   \n",
       "1       Sand  Singles        Semi Final  Apor Gyorgydeak  Hugo Rabeux   \n",
       "2       Sand  Singles        Semi Final  Apor Gyorgydeak  Hugo Rabeux   \n",
       "3       Sand  Singles        Semi Final  Apor Gyorgydeak  Hugo Rabeux   \n",
       "4       Sand  Singles        Semi Final  Apor Gyorgydeak  Hugo Rabeux   \n",
       "\n",
       "  Serving Team Service Point Winner Point type  \n",
       "0            B       1            B         UE  \n",
       "1            B       1            A         UE  \n",
       "2            B       1            B          W  \n",
       "3            B       2            A         UE  \n",
       "4            A       2            B         UE  "
      ]
     },
     "execution_count": 401,
     "metadata": {},
     "output_type": "execute_result"
    }
   ],
   "source": [
    "df.head()"
   ]
  },
  {
   "cell_type": "code",
   "execution_count": 402,
   "metadata": {},
   "outputs": [],
   "source": [
    "sand_perc = np.round(df[df['Court Type'] == 'Sand']['Point type'].value_counts(normalize = True)*100,2).to_frame(name='Sand')\n",
    "indoor_perc = np.round(df[df['Court Type'] != 'Sand']['Point type'].value_counts(normalize = True)*100,2).to_frame(name='Indoor')"
   ]
  },
  {
   "cell_type": "code",
   "execution_count": 403,
   "metadata": {},
   "outputs": [],
   "source": [
    "sand_indoor = pd.concat([sand_perc, indoor_perc], axis = 1).reset_index().rename(columns = {'index' : 'Floor Type'})"
   ]
  },
  {
   "cell_type": "code",
   "execution_count": 404,
   "metadata": {},
   "outputs": [
    {
     "data": {
      "text/html": [
       "<div>\n",
       "<style scoped>\n",
       "    .dataframe tbody tr th:only-of-type {\n",
       "        vertical-align: middle;\n",
       "    }\n",
       "\n",
       "    .dataframe tbody tr th {\n",
       "        vertical-align: top;\n",
       "    }\n",
       "\n",
       "    .dataframe thead th {\n",
       "        text-align: right;\n",
       "    }\n",
       "</style>\n",
       "<table border=\"1\" class=\"dataframe\">\n",
       "  <thead>\n",
       "    <tr style=\"text-align: right;\">\n",
       "      <th></th>\n",
       "      <th>Floor Type</th>\n",
       "      <th>Sand</th>\n",
       "      <th>Indoor</th>\n",
       "    </tr>\n",
       "  </thead>\n",
       "  <tbody>\n",
       "    <tr>\n",
       "      <th>0</th>\n",
       "      <td>UE</td>\n",
       "      <td>51.72</td>\n",
       "      <td>43.91</td>\n",
       "    </tr>\n",
       "    <tr>\n",
       "      <th>1</th>\n",
       "      <td>FE</td>\n",
       "      <td>26.29</td>\n",
       "      <td>25.16</td>\n",
       "    </tr>\n",
       "    <tr>\n",
       "      <th>2</th>\n",
       "      <td>W</td>\n",
       "      <td>18.53</td>\n",
       "      <td>23.10</td>\n",
       "    </tr>\n",
       "    <tr>\n",
       "      <th>3</th>\n",
       "      <td>E</td>\n",
       "      <td>3.45</td>\n",
       "      <td>7.83</td>\n",
       "    </tr>\n",
       "  </tbody>\n",
       "</table>\n",
       "</div>"
      ],
      "text/plain": [
       "  Floor Type   Sand  Indoor\n",
       "0         UE  51.72   43.91\n",
       "1         FE  26.29   25.16\n",
       "2          W  18.53   23.10\n",
       "3          E   3.45    7.83"
      ]
     },
     "execution_count": 404,
     "metadata": {},
     "output_type": "execute_result"
    }
   ],
   "source": [
    "sand_indoor"
   ]
  },
  {
   "cell_type": "code",
   "execution_count": 405,
   "metadata": {},
   "outputs": [],
   "source": [
    "x =  pd.melt(sand_indoor, id_vars=['Floor Type'])"
   ]
  },
  {
   "cell_type": "code",
   "execution_count": 406,
   "metadata": {},
   "outputs": [
    {
     "data": {
      "text/html": [
       "<div>\n",
       "<style scoped>\n",
       "    .dataframe tbody tr th:only-of-type {\n",
       "        vertical-align: middle;\n",
       "    }\n",
       "\n",
       "    .dataframe tbody tr th {\n",
       "        vertical-align: top;\n",
       "    }\n",
       "\n",
       "    .dataframe thead th {\n",
       "        text-align: right;\n",
       "    }\n",
       "</style>\n",
       "<table border=\"1\" class=\"dataframe\">\n",
       "  <thead>\n",
       "    <tr style=\"text-align: right;\">\n",
       "      <th></th>\n",
       "      <th>Floor Type</th>\n",
       "      <th>variable</th>\n",
       "      <th>value</th>\n",
       "    </tr>\n",
       "  </thead>\n",
       "  <tbody>\n",
       "    <tr>\n",
       "      <th>0</th>\n",
       "      <td>UE</td>\n",
       "      <td>Sand</td>\n",
       "      <td>51.72</td>\n",
       "    </tr>\n",
       "    <tr>\n",
       "      <th>1</th>\n",
       "      <td>FE</td>\n",
       "      <td>Sand</td>\n",
       "      <td>26.29</td>\n",
       "    </tr>\n",
       "    <tr>\n",
       "      <th>2</th>\n",
       "      <td>W</td>\n",
       "      <td>Sand</td>\n",
       "      <td>18.53</td>\n",
       "    </tr>\n",
       "    <tr>\n",
       "      <th>3</th>\n",
       "      <td>E</td>\n",
       "      <td>Sand</td>\n",
       "      <td>3.45</td>\n",
       "    </tr>\n",
       "    <tr>\n",
       "      <th>4</th>\n",
       "      <td>UE</td>\n",
       "      <td>Indoor</td>\n",
       "      <td>43.91</td>\n",
       "    </tr>\n",
       "    <tr>\n",
       "      <th>5</th>\n",
       "      <td>FE</td>\n",
       "      <td>Indoor</td>\n",
       "      <td>25.16</td>\n",
       "    </tr>\n",
       "    <tr>\n",
       "      <th>6</th>\n",
       "      <td>W</td>\n",
       "      <td>Indoor</td>\n",
       "      <td>23.10</td>\n",
       "    </tr>\n",
       "    <tr>\n",
       "      <th>7</th>\n",
       "      <td>E</td>\n",
       "      <td>Indoor</td>\n",
       "      <td>7.83</td>\n",
       "    </tr>\n",
       "  </tbody>\n",
       "</table>\n",
       "</div>"
      ],
      "text/plain": [
       "  Floor Type variable  value\n",
       "0         UE     Sand  51.72\n",
       "1         FE     Sand  26.29\n",
       "2          W     Sand  18.53\n",
       "3          E     Sand   3.45\n",
       "4         UE   Indoor  43.91\n",
       "5         FE   Indoor  25.16\n",
       "6          W   Indoor  23.10\n",
       "7          E   Indoor   7.83"
      ]
     },
     "execution_count": 406,
     "metadata": {},
     "output_type": "execute_result"
    }
   ],
   "source": [
    "x"
   ]
  },
  {
   "cell_type": "code",
   "execution_count": 407,
   "metadata": {},
   "outputs": [
    {
     "data": {
      "image/png": "[encoded data removed]",
      "text/plain": [
       "<Figure size 1080x360 with 1 Axes>"
      ]
     },
     "metadata": {
      "needs_background": "light"
     },
     "output_type": "display_data"
    }
   ],
   "source": [
    "plt.figure(figsize=(15, 5))\n",
    "\n",
    "sns.barplot(data=x, x='Floor Type', y='value', hue='variable')\n",
    "\n",
    "# Add labels on top of the bars\n",
    "ax = plt.gca()\n",
    "ax.bar_label(ax.containers[-1], fmt='\\n%.2f%%', label_type='edge', fontsize=8)\n",
    "ax.bar_label(ax.containers[0], fmt='\\n%.2f%%', label_type='edge', fontsize=8)\n",
    "ax.legend(title = 'Floor Type')\n",
    "plt.xlabel('Point Type')\n",
    "plt.ylabel('Percentage within Floor Type')\n",
    "plt.title('Distribution of Point Types on Sand and Indoors')\n",
    "plt.show()"
   ]
  },
  {
   "cell_type": "markdown",
   "metadata": {},
   "source": [
    "#### Analyzing the correlation between the successful service number and the point winner of the rallies "
   ]
  },
  {
   "cell_type": "code",
   "execution_count": 409,
   "metadata": {},
   "outputs": [],
   "source": [
    "df['Server Wins'] = np.where(df['Serving Team'] == df['Point Winner'], \"Yes\", \"No\")"
   ]
  },
  {
   "cell_type": "code",
   "execution_count": 412,
   "metadata": {},
   "outputs": [],
   "source": [
    "df_serv = df.groupby(['Service', 'Server Wins']).count()['Date'].to_frame(name = \"Count\").reset_index()"
   ]
  },
  {
   "cell_type": "markdown",
   "metadata": {},
   "source": [
    "###### Take out the Double Faults as they are not relevant here"
   ]
  },
  {
   "cell_type": "code",
   "execution_count": 413,
   "metadata": {},
   "outputs": [],
   "source": [
    "df_serv = df_serv[df_serv['Service'] != \"DF\"]"
   ]
  },
  {
   "cell_type": "code",
   "execution_count": 414,
   "metadata": {},
   "outputs": [],
   "source": [
    "df_serv['Percentage'] = np.round(100*df_serv['Count'] / df_serv.groupby('Service')['Count'].transform('sum'),2)"
   ]
  },
  {
   "cell_type": "code",
   "execution_count": 415,
   "metadata": {},
   "outputs": [
    {
     "data": {
      "image/png": "[encoded data removed]",
      "text/plain": [
       "<Figure size 864x648 with 1 Axes>"
      ]
     },
     "metadata": {
      "needs_background": "light"
     },
     "output_type": "display_data"
    }
   ],
   "source": [
    "plt.figure(figsize=(12,9))\n",
    "\n",
    "sns.barplot(data = df_serv, x = \"Service\", y = \"Percentage\", hue=\"Server Wins\")\n",
    "\n",
    "# Add labels on top of the bars\n",
    "ax = plt.gca()\n",
    "ax.bar_label(ax.containers[-1], fmt='\\n%.2f%%', label_type='edge', fontsize=15)\n",
    "ax.bar_label(ax.containers[-1], fmt='Server Wins', label_type='center', fontsize=15)\n",
    "ax.bar_label(ax.containers[0], fmt='\\n%.2f%%', label_type='edge', fontsize=15)\n",
    "ax.bar_label(ax.containers[0], fmt='Server Loses', label_type='center', fontsize=15)\n",
    "\n",
    "plt.xlabel('Service Number')\n",
    "plt.ylabel('Probability of Outcome')\n",
    "plt.title('Probability of teqball rally outcome based on the successful service', fontsize = 20)\n",
    "plt.legend([], [], frameon=False)\n",
    "\n",
    "plt.show()"
   ]
  },
  {
   "cell_type": "code",
   "execution_count": null,
   "metadata": {},
   "outputs": [],
   "source": []
  },
  {
   "cell_type": "code",
   "execution_count": null,
   "metadata": {},
   "outputs": [],
   "source": []
  },
  {
   "cell_type": "code",
   "execution_count": null,
   "metadata": {},
   "outputs": [],
   "source": []
  },
  {
   "cell_type": "code",
   "execution_count": null,
   "metadata": {},
   "outputs": [],
   "source": []
  },
  {
   "cell_type": "code",
   "execution_count": null,
   "metadata": {},
   "outputs": [],
   "source": []
  },
  {
   "cell_type": "code",
   "execution_count": null,
   "metadata": {},
   "outputs": [],
   "source": []
  },
  {
   "cell_type": "code",
   "execution_count": null,
   "metadata": {},
   "outputs": [],
   "source": []
  },
  {
   "cell_type": "code",
   "execution_count": null,
   "metadata": {},
   "outputs": [],
   "source": []
  }
 ],
 "metadata": {
  "kernelspec": {
   "display_name": "Python 3",
   "language": "python",
   "name": "python3"
  },
  "language_info": {
   "codemirror_mode": {
    "name": "ipython",
    "version": 3
   },
   "file_extension": ".py",
   "mimetype": "text/x-python",
   "name": "python",
   "nbconvert_exporter": "python",
   "pygments_lexer": "ipython3",
   "version": "3.9.4"
  },
  "orig_nbformat": 4
 },
 "nbformat": 4,
 "nbformat_minor": 2
}
